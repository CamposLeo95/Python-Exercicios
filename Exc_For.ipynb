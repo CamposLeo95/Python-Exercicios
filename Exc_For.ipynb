{
 "cells": [
  {
   "cell_type": "markdown",
   "id": "83356236",
   "metadata": {},
   "source": [
    "\n",
    "## Exercícios\n",
    "### 1. Criando um Registro de Hóspedes\n",
    "Digamos que você está criando o sistema para registrar a chegada de hóspedes em um hotel. No hotel, os hóspedes podem ter quartos com 1, 2, 3 e 4 pessoas. Seu sistema deve conseguir:\n",
    "\n",
    "Identificar quantas pessoas o hóspede que acabou de chegar vai ter no quarto (perguntando por meio de input)\n",
    "\n",
    "De acordo com a quantidade de pessoas do hóspede, ele deve fazer um for para perguntar o cpf e o nome de cada pessoa, a fim de registrá-la no quarto (2 inputs para cada pessoa, 1 para o cpf e outro para o nome)\n",
    "\n",
    "O seu programa então deve gerar uma lista com todas as pessoas que ficarão no quarto em que cada item dessa lista é o nome da pessoa e o cpf da pessoa, assim:"
   ]
  },
  {
   "cell_type": "markdown",
   "id": "2c91a26b",
   "metadata": {},
   "source": [
    "Para simplificar, não vamos nos preocupar com possibilidades de \"tentar colocar mais de 1 hóspede, digitar o cpf errado, etc. Nosso objetivo é treinar a criação de uma rotina de cadastro"
   ]
  },
  {
   "cell_type": "code",
   "execution_count": 55,
   "id": "2d911be3",
   "metadata": {},
   "outputs": [
    {
     "name": "stdout",
     "output_type": "stream",
     "text": [
      "Quantas pessoas irá registrar: 2\n",
      " \n",
      "Digite o nome: leo\n",
      "Digite o CPF: 123\n",
      "Digite o nome: koko\n",
      "Digite o CPF: 456\n",
      " \n",
      "leo - CPF: 123\n",
      "koko - CPF: 456\n"
     ]
    }
   ],
   "source": [
    "quarto = []\n",
    "\n",
    "codigo = int(input('Quantas pessoas irá registrar: '))\n",
    "print(' ')\n",
    "\n",
    "if codigo > 0:\n",
    "    for i in range(codigo):\n",
    "            nome = input('Digite o nome: ')\n",
    "            cpf = input('Digite o CPF: ')\n",
    "            hospede = [nome, 'CPF: {}'.format(cpf)]\n",
    "            quarto.append(hospede)\n",
    "else:\n",
    "    print('Digito invalido')\n",
    "\n",
    "print(' ')\n",
    "for i, pessoa in enumerate(quarto):\n",
    "    print('{} - {}'.format(quarto[i][0], quarto[i][1]))\n",
    "\n"
   ]
  },
  {
   "cell_type": "markdown",
   "id": "bcd854b6",
   "metadata": {},
   "source": [
    "### 2. Análise de Vendas\n",
    "Nesse exercício vamos fazer uma \"análise simples\" de atingimento de Meta.\n",
    "\n",
    "Temos uma lista com os vendedores e os valores de vendas e queremos identificar (printar) quais os vendedores que bateram a meta e qual foi o valor que eles venderam."
   ]
  },
  {
   "cell_type": "code",
   "execution_count": 19,
   "id": "26cde387",
   "metadata": {},
   "outputs": [
    {
     "name": "stdout",
     "output_type": "stream",
     "text": [
      "Funcionario: João, atingiu a meta com 15000 unidades vendidas\n",
      "Funcionario: Julia, atingiu a meta com 27000 unidades vendidas\n",
      "Funcionario: Marcus, não atingiu a meta com apenas 9900 unidades vendidas\n",
      "Funcionario: Maria, não atingiu a meta com apenas 3750 unidades vendidas\n",
      "Funcionario: Ana, atingiu a meta com 10300 unidades vendidas\n",
      "Funcionario: Alon, não atingiu a meta com apenas 7870 unidades vendidas\n"
     ]
    }
   ],
   "source": [
    "meta = 10000\n",
    "vendas = [\n",
    "    ['João', 15000],\n",
    "    ['Julia', 27000],\n",
    "    ['Marcus', 9900],\n",
    "    ['Maria', 3750],\n",
    "    ['Ana', 10300],\n",
    "    ['Alon', 7870],\n",
    "]\n",
    "\n",
    "for venda in vendas:\n",
    "    if venda[1] > meta:\n",
    "        print('Funcionario: {}, atingiu a meta com {} unidades vendidas'.format(venda[0], venda[1]))\n",
    "    else:\n",
    "        print('Funcionario: {}, não atingiu a meta com apenas {} unidades vendidas'.format(venda[0], venda[1]))"
   ]
  },
  {
   "cell_type": "markdown",
   "id": "0980f57e",
   "metadata": {},
   "source": [
    "### 3. Comparação com Ano Anterior\n",
    "Digamos que você está analisando as vendas de produtos de um ecommerce e quer identificar quais produtos tiveram no ano de 2020 mais vendas do que no ano de 2019, para reportar isso para a diretoria.\n",
    "\n",
    "Sua resposta pode ser um print de cada produto, qual foi a venda de 2019, a venda de 2020 e o % de crescimento de 2020 para 2019.\n",
    "\n",
    "Lembrando, para calcular o % de crescimento de um produto de um ano para o outro, podemos fazer: (vendas_produto2020/vendas_produto2019 - 1)\n",
    "\n",
    "Dica: lembre do enumerate, ele pode facilitar seu \"for\""
   ]
  },
  {
   "cell_type": "code",
   "execution_count": 59,
   "id": "e1b1d180",
   "metadata": {},
   "outputs": [
    {
     "name": "stdout",
     "output_type": "stream",
     "text": [
      "O produto iphone teve um crescimento de: 70.5%\n",
      "\n",
      "O produto tv teve um crescimento de: 94.3%\n",
      "\n",
      "O produto máquina de café teve um crescimento de: 20.7%\n",
      "\n",
      "O produto notebook dell teve um crescimento de: 64.4%\n",
      "\n",
      "O produto notebook hp teve um crescimento de: 248.8%\n",
      "\n",
      "O produto microsoft surface teve um crescimento de: 52.1%\n",
      "\n",
      "O produto webcam teve um crescimento de: 24.5%\n",
      "\n",
      "O produto caixa de som teve um crescimento de: 48.1%\n",
      "\n",
      "O produto microfone teve um crescimento de: 96.3%\n",
      "\n",
      "O produto câmera canon teve um crescimento de: 68.2%\n",
      "\n"
     ]
    }
   ],
   "source": [
    "produtos = ['iphone', 'galaxy', 'ipad', 'tv', 'máquina de café', 'kindle', 'geladeira', 'adega', 'notebook dell', 'notebook hp', 'notebook asus', 'microsoft surface', 'webcam', 'caixa de som', 'microfone', 'câmera canon']\n",
    "vendas2019 = [558147,712350,573823,405252,718654,531580,973139,892292,422760,154753,887061,438508,237467,489705,328311,591120]\n",
    "vendas2020 = [951642,244295,26964,787604,867660,78830,710331,646016,694913,539704,324831,667179,295633,725316,644622,994303]\n",
    "\n",
    "for i, venda in enumerate(vendas2020):\n",
    "    if venda > vendas2019[i]:\n",
    "        print('O produto {} teve um crescimento de: {:.1%}\\n'.format(produtos[i], (venda / vendas2019[i]) - 1))"
   ]
  },
  {
   "cell_type": "markdown",
   "id": "500c6fb0",
   "metadata": {},
   "source": [
    "### 4. For dentro de For\n",
    "Quando temos listas dentro de listas, às vezes precisamos fazer um \"for dentro de for\""
   ]
  },
  {
   "cell_type": "markdown",
   "id": "90590ad2",
   "metadata": {},
   "source": [
    "Vamos pegar um exemplo de nível mínimo de estoque. Em uma fábrica você tem vários produtos e não pode deixar que os produtos fiquem em falta. Para isso, foi definido uma quantidade mínima de estoque que os produtos precisam ter:\n",
    "\n",
    "Identifique quais fábricas tem algum produto abaixo do nível de estoque\n",
    "\n",
    "- Agora ao invés de analisar o estoque de apenas 1 fábrica, vamos analisar o estoque de várias fábricas"
   ]
  },
  {
   "cell_type": "code",
   "execution_count": 6,
   "id": "f01ff5a2",
   "metadata": {},
   "outputs": [
    {
     "name": "stdout",
     "output_type": "stream",
     "text": [
      "['Lira Manufacturing', 'Fábrica Hashtag', 'Python Manufaturas']\n"
     ]
    }
   ],
   "source": [
    "estoque = [\n",
    "    [294, 125, 269, 208, 783, 852, 259, 371, 47, 102, 386, 87, 685, 686, 697, 941, 163, 631, 7, 714, 218, 670, 453],\n",
    "    [648, 816, 310, 555, 992, 643, 226, 319, 501, 23, 239, 42, 372, 441, 126, 645, 927, 911, 761, 445, 974, 2, 549],\n",
    "    [832, 683, 784, 449, 977, 705, 198, 937, 729, 327, 339, 10, 975, 310, 95, 689, 137, 795, 211, 538, 933, 751, 522],\n",
    "    [837, 168, 570, 397, 53, 297, 966, 714, 72, 737, 259, 629, 625, 469, 922, 305, 782, 243, 841, 848, 372, 621, 362],\n",
    "    [429, 242, 53, 985, 406, 186, 198, 50, 501, 870, 781, 632, 781, 105, 644, 509, 401, 88, 961, 765, 422, 340, 654],\n",
    "]\n",
    "fabricas = ['Lira Manufacturing', 'Fábrica Hashtag', 'Python Manufaturas', 'Produções e Cia', 'Manufatura e Cia']\n",
    "nivel_minimo = 50\n",
    "\n",
    "fab_nivel_abaixo = [] \n",
    "\n",
    "for i, lista in enumerate(estoque):\n",
    "    for qtd in lista:\n",
    "        if qtd < nivel_minimo:\n",
    "            if fabricas[i] in fab_nivel_abaixo:\n",
    "                pass\n",
    "            else:\n",
    "                fab_nivel_abaixo.append(fabricas[i])\n",
    "print(fab_nivel_abaixo)"
   ]
  },
  {
   "cell_type": "markdown",
   "id": "90e1cac6",
   "metadata": {},
   "source": [
    "### 5. Calculando % de uma lista\n",
    "Faremos algo parecido com \"filtrar\" uma lista. Mais pra frente no curso aprenderemos outras formas de fazer isso, mas com o nosso conhecimentoa atual já conseguimos resolver o desafio.\n",
    "\n",
    "Digamos que a gente tenha uma lista de vendedores e ao invés de saber todos os vendedores que bateram a meta, eu quero conseguir calcular o % de vendedores que bateram a meta. Ou seja, se temos 10 vendedores e 3 bateram a meta, temos 30% dos vendedores que bateram a meta."
   ]
  },
  {
   "cell_type": "code",
   "execution_count": 39,
   "id": "9fc9702d",
   "metadata": {},
   "outputs": [
    {
     "name": "stdout",
     "output_type": "stream",
     "text": [
      "O total de vendedores que atingiram a meta foi de 50.0%\n"
     ]
    }
   ],
   "source": [
    "meta = 10000\n",
    "vendas = [\n",
    "    ['João', 15000],\n",
    "    ['Julia', 27000],\n",
    "    ['Marcus', 9900],\n",
    "    ['Maria', 3750],\n",
    "    ['Ana', 10300],\n",
    "    ['Alon', 7870],\n",
    "]\n",
    "metas_atingidas = []\n",
    "\n",
    "for venda in vendas:\n",
    "    if venda[1] >= meta:\n",
    "        metas_atingidas.append(venda)\n",
    "\n",
    "porcentagem = len(metas_atingidas) / len(vendas) \n",
    "\n",
    "print('O total de vendedores que atingiram a meta foi de {:.1%}'.format(porcentagem))\n"
   ]
  },
  {
   "cell_type": "code",
   "execution_count": 41,
   "id": "5303db68",
   "metadata": {},
   "outputs": [
    {
     "name": "stdout",
     "output_type": "stream",
     "text": [
      "O total de vendedores que atingiram a meta foi de 50.0%\n"
     ]
    }
   ],
   "source": [
    "meta = 10000\n",
    "\n",
    "vendas = [\n",
    "    ['João', 15000],\n",
    "    ['Julia', 27000],\n",
    "    ['Marcus', 9900],\n",
    "    ['Maria', 3750],\n",
    "    ['Ana', 10300],\n",
    "    ['Alon', 7870],\n",
    "]\n",
    "contador = 0\n",
    "\n",
    "for venda in vendas:\n",
    "    if venda[1] >= meta:\n",
    "        contador += 1\n",
    "    \n",
    "print('O total de vendedores que atingiram a meta foi de {:.1%}'.format(contador / len(vendas)))"
   ]
  },
  {
   "cell_type": "markdown",
   "id": "d11fc4e8",
   "metadata": {},
   "source": [
    "- Para treinar uma estrutura parecida, crie um código para responder: quem foi o vendedor que mais vendeu?"
   ]
  },
  {
   "cell_type": "code",
   "execution_count": 37,
   "id": "5f76dd9a",
   "metadata": {},
   "outputs": [
    {
     "name": "stdout",
     "output_type": "stream",
     "text": [
      "O vendedor que mais vendeu foi Julia com 27,000.00\n"
     ]
    }
   ],
   "source": [
    "vencedor = ['', 0]\n",
    "\n",
    "for i, venda in enumerate(vendas):\n",
    "    #print(venda[1])\n",
    "    if venda[1] > vencedor[1]:\n",
    "        vencedor = [venda[0], venda[1]]\n",
    "\n",
    "print('O vendedor que mais vendeu foi {} com {:,.2f}'.format(vencedor[0], vencedor[1]))"
   ]
  }
 ],
 "metadata": {
  "kernelspec": {
   "display_name": "Python 3 (ipykernel)",
   "language": "python",
   "name": "python3"
  },
  "language_info": {
   "codemirror_mode": {
    "name": "ipython",
    "version": 3
   },
   "file_extension": ".py",
   "mimetype": "text/x-python",
   "name": "python",
   "nbconvert_exporter": "python",
   "pygments_lexer": "ipython3",
   "version": "3.9.12"
  }
 },
 "nbformat": 4,
 "nbformat_minor": 5
}
