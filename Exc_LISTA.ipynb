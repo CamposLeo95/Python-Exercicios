{
 "cells": [
  {
   "cell_type": "markdown",
   "id": "0eef13bc",
   "metadata": {},
   "source": [
    "# Exercícios\n",
    "\n",
    "## 1. Faturamento do Melhor e do Pior Mês do Ano\n",
    "\n",
    "Qual foi o valor de vendas do melhor mês do Ano\n",
    "\n",
    "E valor do pior mês do ano\n",
    "\n",
    "Agora relacione as duas listas para printar 'O melhor mês do ano foi {} com {} vendas' e o mesmo para o pior mês do ano."
   ]
  },
  {
   "cell_type": "code",
   "execution_count": 5,
   "id": "9bed95d4",
   "metadata": {},
   "outputs": [
    {
     "name": "stdout",
     "output_type": "stream",
     "text": [
      "Melhor mes do ano foi nov com 49051\n",
      "Pior mes do ano foi dez com 9650\n"
     ]
    }
   ],
   "source": [
    "meses = ['jan', 'fev', 'mar', 'abr', 'mai', 'jun', 'jul', 'ago', 'set', 'out', 'nov', 'dez']\n",
    "vendas_1sem = [25000, 29000, 22200, 17750, 15870, 19900]\n",
    "vendas_2sem = [19850, 20120, 17540, 15555, 49051, 9650]\n",
    "\n",
    "vendas_ano = vendas_1sem + vendas_2sem\n",
    "\n",
    "maior_ano = max(vendas_ano)\n",
    "menor_ano = min(vendas_ano)\n",
    "\n",
    "i_maior_ano = vendas_ano.index(maior_ano)\n",
    "i_menor_ano = vendas_ano.index(menor_ano)\n",
    "\n",
    "print('Melhor mes do ano foi {} com {}'.format(meses[i_maior_ano], maior_ano))\n",
    "print('Pior mes do ano foi {} com {}'.format(meses[i_menor_ano], menor_ano))"
   ]
  },
  {
   "cell_type": "markdown",
   "id": "bd81f0c7",
   "metadata": {},
   "source": [
    "## 2. Continuação\n",
    "\n",
    "Calcule também o faturamento total do Ano e quanto que o melhor mês representou do faturamento total.\n",
    "\n",
    "Obs: Para o faturamento total, pode usar a função sum(lista) que soma todos os itens de uma lista"
   ]
  },
  {
   "cell_type": "code",
   "execution_count": 6,
   "id": "de064aca",
   "metadata": {},
   "outputs": [
    {
     "name": "stdout",
     "output_type": "stream",
     "text": [
      "Representou 18.76%\n"
     ]
    }
   ],
   "source": [
    "\n",
    "faturamento_ano = sum(vendas_ano)\n",
    "porcento_melhor_mes = maior_ano * 100 / faturamento_ano\n",
    "\n",
    "print(f'Representou {porcento_melhor_mes:.2f}%')"
   ]
  },
  {
   "cell_type": "markdown",
   "id": "40fcb3f3",
   "metadata": {},
   "source": [
    "## 3. Crie uma lista com o top 3 valores de vendas do ano (sem fazer \"no olho\")\n",
    "\n",
    "Dica: o método remove retira um item da lista.\n"
   ]
  },
  {
   "cell_type": "code",
   "execution_count": 12,
   "id": "ac9733cf",
   "metadata": {
    "scrolled": true
   },
   "outputs": [
    {
     "name": "stdout",
     "output_type": "stream",
     "text": [
      "[25000, 29000, 22200, 17750, 15870, 19900, 19850, 20120, 17540, 15555, 49051, 9650]\n",
      "[9650, 15555, 15870]\n",
      "[25000, 29000, 22200, 17750, 15870, 19900, 19850, 20120, 17540, 15555, 49051, 9650]\n",
      "[9650, 15555, 15870, 17540, 17750, 19850, 19900, 20120, 22200, 25000, 29000, 49051]\n"
     ]
    }
   ],
   "source": [
    "top3 = []\n",
    "nova_vendas_ano = vendas_ano.copy()\n",
    "\n",
    "nova_vendas_ano.sort()\n",
    "top3.append(nova_vendas_ano[0])\n",
    "top3.append(nova_vendas_ano[1])\n",
    "top3.append(nova_vendas_ano[2])\n",
    "\n",
    "print(top3)\n",
    "print(vendas_ano)\n",
    "print(nova_vendas_ano)"
   ]
  },
  {
   "cell_type": "code",
   "execution_count": 4,
   "id": "d4dbdcc7",
   "metadata": {},
   "outputs": [
    {
     "name": "stdout",
     "output_type": "stream",
     "text": [
      "[25000, 29000, 22200, 17750, 15870, 19900, 19850, 20120, 17540, 15555, 49051, 9650]\n"
     ]
    }
   ],
   "source": [
    "print(vendas_ano)"
   ]
  },
  {
   "cell_type": "markdown",
   "id": "87d3f048",
   "metadata": {},
   "source": [
    "# Listas de Listas\n",
    "\n",
    "### Estrutura:\n",
    "\n",
    "Cada item de uma lista pode ser qualquer tipo de variável. Inclusive, uma lista.\n",
    "\n",
    "Quando dentro de uma lista temos cada item como sendo uma outra lista, temos uma \"nested list\", ou seja, uma lista de listas.\n",
    "\n",
    "Todas as regras de lista e tudo que vimos até agora funciona exatamente igual, mas vamos ver como isso funciona na prática"
   ]
  },
  {
   "cell_type": "code",
   "execution_count": 29,
   "id": "90ded572",
   "metadata": {},
   "outputs": [],
   "source": [
    "vendedores = ['Lira', 'João', 'Diego', 'Alon']\n",
    "produtos = ['ipad', 'iphone']\n",
    "vendas = [\n",
    "    [100, 200],\n",
    "    [300, 500],\n",
    "    [50, 1000],\n",
    "    [900, 10],\n",
    "]\n"
   ]
  },
  {
   "cell_type": "markdown",
   "id": "0add2054",
   "metadata": {},
   "source": [
    "- Quanto João vendeu de IPad?\n",
    "- Quanto Diego vendeu de IPhone\n",
    "- Qual o total de vendas de IPhone?"
   ]
  },
  {
   "cell_type": "code",
   "execution_count": 18,
   "id": "f925b461",
   "metadata": {},
   "outputs": [
    {
     "name": "stdout",
     "output_type": "stream",
     "text": [
      "vendas de iphone Diego 300\n",
      "vendas de iphone Diego 1000\n",
      "Total vendas de iphone 1710\n"
     ]
    }
   ],
   "source": [
    "vendas_joao_ipad = vendas[1][0]\n",
    "print('vendas de iphone Diego {}'.format(vendas_joao_ipad))\n",
    "\n",
    "vendas_diego_iphone = vendas[2][1]\n",
    "print('vendas de iphone Diego {}'.format(vendas_diego_iphone))\n",
    "\n",
    "total_vendas_iphone = vendas[0][1] + vendas[1][1] + vendas[2][1] + vendas[3][1]\n",
    "print('Total vendas de iphone {}'.format(total_vendas_iphone))"
   ]
  },
  {
   "cell_type": "markdown",
   "id": "2c8debd6",
   "metadata": {},
   "source": [
    "- E se Lira na verdade fez apenas 50 vendas de IPhone, como eu modifico na minha lista o valor de vendas dele?"
   ]
  },
  {
   "cell_type": "code",
   "execution_count": 26,
   "id": "fd8b9e21",
   "metadata": {},
   "outputs": [
    {
     "name": "stdout",
     "output_type": "stream",
     "text": [
      "[[100, 50], [300, 500], [50, 1000], [900, 10]]\n"
     ]
    }
   ],
   "source": [
    "vendas[0][1] = 50\n",
    "\n",
    "print(vendas)"
   ]
  },
  {
   "cell_type": "markdown",
   "id": "d125cc48",
   "metadata": {},
   "source": [
    "- E se agora eu tenho um novo produto 'mac', como eu adiciono as vendas em cada um dos vendedores?"
   ]
  },
  {
   "cell_type": "code",
   "execution_count": 30,
   "id": "9a8204c7",
   "metadata": {},
   "outputs": [
    {
     "name": "stdout",
     "output_type": "stream",
     "text": [
      "[[100, 200, 10], [300, 500, 15], [50, 1000, 6], [900, 10, 70]]\n"
     ]
    }
   ],
   "source": [
    "vendas_mac = [10, 15, 6, 70]\n",
    "\n",
    "vendas[0].append(vendas_mac[0])\n",
    "vendas[1].append(vendas_mac[1])\n",
    "vendas[2].append(vendas_mac[2])\n",
    "vendas[3].append(vendas_mac[3])\n",
    "\n",
    "print(vendas)"
   ]
  },
  {
   "cell_type": "markdown",
   "id": "21aab0ce",
   "metadata": {},
   "source": [
    "## 4. Mudança de Carga Tributária\n",
    "\n",
    "- Reformas e mudanças de cargas tributárias são bem comuns no Brasil.\n",
    "\n",
    "Digamos que você trabalhe em uma empresa de ecommerce\n",
    "\n",
    "No Brasil, o imposto sobre livros é zerado. De um ano para o outro, o governo criou um novo imposto que incide em 10% sobre o valor dos livros e agora você precisa alterar o registro dos preços dos livros da empresa para garantir que esse imposto vai ser repassado para o preço final do produto.\n",
    "\n",
    "Crie um código que recalcule o valor do livro da sua lista de produtos e ajuste na tabela.\n",
    "\n",
    "Além disso, calcule qual vai ser o impacto financeiro da criação desse imposto para a empresa (ou seja, quanto que o imposto vai aumentar de custo para a empresa)\n",
    "\n",
    "Obs: para facilitar, colocamos apenas 1 livro na lista, mas em breve vamos aprender um for que vai adaptar esse cenário para qualquer quantidade de livros na sua lista.\n",
    "\n",
    "Obs2: Seu código deve funcionar mesmo que não haja livros na lista de produtos da empresa"
   ]
  },
  {
   "cell_type": "code",
   "execution_count": 58,
   "id": "f18c9ca4",
   "metadata": {},
   "outputs": [
    {
     "name": "stdout",
     "output_type": "stream",
     "text": [
      "Valor antigo: 2000000.00\n",
      "Valor novo: 2200000.00\n",
      "Impacta em um valor de 200000.00\n"
     ]
    }
   ],
   "source": [
    "produtos = ['computador', 'livro', 'tablet', 'celular', 'tv', 'ar condicionado', 'alexa', 'máquina de café', 'kindle']\n",
    "\n",
    "#cada item da lista dos produtos corresponde a quantidade de vendas no mês e preço, nessa ordem\n",
    "produtos_ecommerce = [\n",
    "    [10000, 2500],\n",
    "    [50000, 40],\n",
    "    [7000, 1200],\n",
    "    [20000, 1500],\n",
    "    [5800, 1300],\n",
    "    [7200, 2500],\n",
    "    [200, 800],\n",
    "    [3300, 700],\n",
    "    [1900, 400]\n",
    "]\n",
    "\n",
    "if 'livro' in produtos:\n",
    "    i_livro = produtos.index('livro')\n",
    "    \n",
    "    qtd_vendas = produtos_ecommerce[i_livro][0]\n",
    "    preco_novo = produtos_ecommerce[i_livro][1] * 1.1\n",
    "    \n",
    "    total_antigo = produtos_ecommerce[i_livro][0] * produtos_ecommerce[i_livro][1]\n",
    "    total_novo = qtd_vendas * preco_novo\n",
    "    \n",
    "    print('Valor antigo: {:.2f}'.format(total_antigo))\n",
    "    print('Valor novo: {:.2f}'.format(total_novo))\n",
    "    print('Impacta em um valor de {:.2f}'.format(total_novo - total_antigo))\n",
    "\n",
    "else:\n",
    "    print('Produto não encontrado')"
   ]
  }
 ],
 "metadata": {
  "kernelspec": {
   "display_name": "Python 3 (ipykernel)",
   "language": "python",
   "name": "python3"
  },
  "language_info": {
   "codemirror_mode": {
    "name": "ipython",
    "version": 3
   },
   "file_extension": ".py",
   "mimetype": "text/x-python",
   "name": "python",
   "nbconvert_exporter": "python",
   "pygments_lexer": "ipython3",
   "version": "3.9.12"
  }
 },
 "nbformat": 4,
 "nbformat_minor": 5
}
