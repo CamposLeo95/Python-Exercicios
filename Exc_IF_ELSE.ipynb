{
 "cells": [
  {
   "cell_type": "markdown",
   "id": "c9866c94",
   "metadata": {},
   "source": [
    "## Exercicios com IF"
   ]
  },
  {
   "cell_type": "markdown",
   "id": "73a44ae8",
   "metadata": {},
   "source": [
    "### 1. Cálculo de Bônus\n",
    "\n",
    "- Crie um programa que calcule e dê um print no bônus que os funcionários devem receber segundo a regra:\n",
    "\n",
    "A meta é 1000 vendas.<br> \n",
    "Se o valor de vendas for maior ou igual a meta, o valor do bônus do funcionário é 10% do valor de vendas.<br>\n",
    "Caso contrário o valor de bônus do funcionário é 0.<br>\n",
    "Print o bônus dos 3 funcionários\n"
   ]
  },
  {
   "cell_type": "code",
   "execution_count": 15,
   "id": "65cb4527",
   "metadata": {},
   "outputs": [
    {
     "name": "stdout",
     "output_type": "stream",
     "text": [
      "O funcionário 1 ganhou: 100.0 de bonus\n",
      "O funcionário 2 ganhou: 0 de bonus\n",
      "O funcionário 3 ganhou: 270.0 de bonus\n"
     ]
    }
   ],
   "source": [
    "vendas_funcionario1 = 1000\n",
    "vendas_funcionario2 = 770\n",
    "vendas_funcionario3 = 2700\n",
    "\n",
    "meta = 1000\n",
    "bonus = 0\n",
    "\n",
    "meta_atingida1 = vendas_funcionario1 >= meta\n",
    "meta_atingida2 = vendas_funcionario2 >= meta\n",
    "meta_atingida3 = vendas_funcionario3 >= meta\n",
    "\n",
    "# Funcionario 1\n",
    "if meta_atingida1:\n",
    "    bonus = 0.1\n",
    "    print(f'O funcionário 1 ganhou: {bonus * vendas_funcionario1} de bonus')\n",
    "else:\n",
    "    bonus = 0\n",
    "    print(f'O funcionário 1 ganhou: {bonus * vendas_funcionario1} de bonus')\n",
    "\n",
    "# Funcionario 2\n",
    "if meta_atingida2:\n",
    "    bonus = 0.1\n",
    "    print(f'O funcionário 2 ganhou: {bonus * vendas_funcionario2} de bonus')\n",
    "else:\n",
    "    bonus = 0\n",
    "    print(f'O funcionário 2 ganhou: {bonus * vendas_funcionario2} de bonus')\n",
    "    \n",
    "# Funcionario 3          \n",
    "if meta_atingida3:\n",
    "    bonus = 0.1\n",
    "    print(f'O funcionário 3 ganhou: {bonus * vendas_funcionario3} de bonus')\n",
    "else:\n",
    "    bonus = 0\n",
    "    print(f'O funcionário 3 ganhou: {bonus * vendas_funcionario3} de bonus')"
   ]
  },
  {
   "cell_type": "markdown",
   "id": "4b030bfc",
   "metadata": {},
   "source": [
    "## 2. Cálculo de bônus com uma nova regra\n",
    "\n",
    "- Agora, crie um novo código que calcule e dê um print no bônus dos funcionários novamente. Porém há uma nova regra nesse 2º caso:\n",
    "\n",
    "A meta é 1000 vendas<br>\n",
    "Agora, os funcionários que venderem muito acima da meta ganham mais bônus do que os outros. Então o bônus é definido da seguinte forma:<br>\n",
    "\n",
    "- Se vendas funcionário for maior ou igual a 2000, então o bônus é de 15% sobre o valor de vendas\n",
    "- Se vendas funcionário for menor do que 2000 e maior ou igual a 1000, então o bônus é de 10% sobre o valor de vendas\n",
    "- Se vendas funcionário for menos do que 1000 então o bônus do funcionário é de 0.\n",
    "\n",
    "Use as mesmas variáveis de vendas_funcionários"
   ]
  },
  {
   "cell_type": "code",
   "execution_count": 22,
   "id": "d94c3373",
   "metadata": {},
   "outputs": [
    {
     "name": "stdout",
     "output_type": "stream",
     "text": [
      "O funcionário 1 ganhou 100.0 de bônus\n",
      "O funcionário 1 ganhou 0 de bônus\n",
      "O funcionário 1 ganhou 405.0 de bônus\n"
     ]
    }
   ],
   "source": [
    "#funcionario 1 -------------------------------------------------------------\n",
    "\n",
    "if vendas_funcionario1 >= (meta * 2):\n",
    "    bonus = 0.15\n",
    "    print(f'O funcionário 1 ganhou {bonus * vendas_funcionario1} de bônus')\n",
    "elif vendas_funcionario1 >= meta:\n",
    "    bonus = 0.1\n",
    "    print(f'O funcionário 1 ganhou {bonus * vendas_funcionario1} de bônus')\n",
    "else:\n",
    "    bonus = 0\n",
    "    print(f'O funcionário 1 ganhou {bonus * vendas_funcionario1} de bônus')\n",
    "\n",
    "#funcionario 2 ---------------- REDUZINDO O CODIGO ------------------------\n",
    "\n",
    "if vendas_funcionario2 >= (meta * 2):\n",
    "    bonus = 0.15 * vendas_funcionario2\n",
    "elif vendas_funcionario2 >= meta:\n",
    "    bonus = 0.1 * vendas_funcionario2\n",
    "else:\n",
    "    bonus = 0\n",
    "print(f'O funcionário 1 ganhou {bonus} de bônus')\n",
    "    \n",
    "#funcionario 3 -------------------------------------------------------------\n",
    "\n",
    "if vendas_funcionario3 >= (meta * 2):\n",
    "    bonus = 0.15  * vendas_funcionario3\n",
    "\n",
    "elif vendas_funcionario3 >= meta:\n",
    "    bonus = 0.1  * vendas_funcionario3\n",
    "\n",
    "else:\n",
    "    bonus = 0\n",
    "print(f'O funcionário 1 ganhou {bonus} de bônus')\n",
    "    "
   ]
  },
  {
   "cell_type": "markdown",
   "id": "1d24b276",
   "metadata": {},
   "source": [
    "## 3. Criando um mini sistema de controle de estoque\n",
    "\n",
    "- Crie um sistema para ser usado pelo time de controle de estoque de um centro de distribuição.\n",
    "- Imagine que ao fim de todo dia, o time conta quantas unidades de produto existem no estoque. Se tivermos um estoque abaixo do estoque permitido para aquela categoria do produto, o time deve ser avisado (print) para fazer um novo pedido daquele produto.\n",
    "- Cada categoria de produto tem um estoque mínimo diferente, segundo a regra abaixo:\n",
    "\n",
    "- alimentos -> Estoque mínimo: 50\n",
    "- bebidas -> Estoque mínimo: 75\n",
    "- limpeza -> Estoque mínimo: 30\n",
    "\n",
    "Para isso vamos criar um programa que pede 3 inputs do usuário: nome do produto, categoria e quantidade atual em estoque.\n",
    "\n",
    "Se o produto tiver abaixo do estoque mínimo da categoria dele, o programa deve printar a mensagem \"Solicitar {produto} à equipe de compras, temos apenas {unidades} em estoque\"\n",
    "\n",
    "Exemplo: Se o usuário preenche os inputs com: bebidas, dolly, 90, o programa não deve exibir nenhuma mensagem.<br>\n",
    "Agora, se o usuário preenche os inputs com: bebidas, guaraná, 60, o programa deve exibir a mensagem \"Solicitar guaraná à equipe de compras, temos apenas 60 unidades em estoque.\n",
    "\n",
    "Obs: lembre de usar o int() para transformar o número inserido pelo usuário no input de string para int.<br>\n",
    "Obs2: Caso o usuário não preencha alguma das 3 informações, o programa deve exibir uma mensagem para avisá-lo de preencher corretamente."
   ]
  },
  {
   "cell_type": "code",
   "execution_count": 26,
   "id": "61658860",
   "metadata": {},
   "outputs": [
    {
     "name": "stdout",
     "output_type": "stream",
     "text": [
      "Digite o nome do alimento: Ruffles\n",
      "Digite a quantidade de alimentos: 40\n",
      "Digite o nome da bebida: Brahma\n",
      "Digite a quantidade de bebidas: 60\n",
      "Digite o nome do produto de limpeza: bom-brill\n",
      "Digite a quantidade de produtos de limpeza: 25\n",
      "\n",
      "Solicitar Ruffles à equipe de compras, temos apenas 40 unidades em estoque\n",
      "Solicitar Brahma à equipe de compras, temos apenas 60 unidades em estoque\n",
      "Solicitar bom-brill à equipe de compras, temos apenas 25 unidades em estoque\n"
     ]
    }
   ],
   "source": [
    "alimentos_nome = input('Digite o nome do alimento: ')\n",
    "alimentos_qtd = int(input('Digite a quantidade de alimentos: '))\n",
    "bebidas_nome = input('Digite o nome da bebida: ')\n",
    "bebidas_qtd = int(input('Digite a quantidade de bebidas: '))\n",
    "limpeza_nome = input('Digite o nome do produto de limpeza: ')\n",
    "limpeza_qtd = int(input('Digite a quantidade de produtos de limpeza: '))\n",
    "print('')\n",
    "\n",
    "min_alimentos = 50\n",
    "min_bebidas = 75\n",
    "min_limpeza = 30\n",
    "\n",
    "# Verificação de alimentos ------------------------------------\n",
    "if alimentos_qtd <= min_alimentos:\n",
    "    print(f'Solicitar {alimentos_nome} à equipe de compras, temos apenas {alimentos_qtd} unidades em estoque')\n",
    "else:\n",
    "    pass\n",
    "\n",
    "#verificação de bebidas ---------------------------------------\n",
    "if bebidas_qtd <= min_bebidas:\n",
    "    print(f'Solicitar {bebidas_nome} à equipe de compras, temos apenas {bebidas_qtd} unidades em estoque')\n",
    "\n",
    "#verificação de produtos de limpeza ---------------------------\n",
    "if limpeza_qtd <= min_limpeza:\n",
    "    print(f'Solicitar {limpeza_nome} à equipe de compras, temos apenas {limpeza_qtd} unidades em estoque')"
   ]
  }
 ],
 "metadata": {
  "kernelspec": {
   "display_name": "Python 3 (ipykernel)",
   "language": "python",
   "name": "python3"
  },
  "language_info": {
   "codemirror_mode": {
    "name": "ipython",
    "version": 3
   },
   "file_extension": ".py",
   "mimetype": "text/x-python",
   "name": "python",
   "nbconvert_exporter": "python",
   "pygments_lexer": "ipython3",
   "version": "3.9.12"
  }
 },
 "nbformat": 4,
 "nbformat_minor": 5
}
